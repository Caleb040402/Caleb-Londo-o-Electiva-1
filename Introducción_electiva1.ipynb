{
  "nbformat": 4,
  "nbformat_minor": 0,
  "metadata": {
    "colab": {
      "provenance": [],
      "authorship_tag": "ABX9TyMHTcQ7+pFpEetbHL7GGaKN",
      "include_colab_link": true
    },
    "kernelspec": {
      "name": "python3",
      "display_name": "Python 3"
    },
    "language_info": {
      "name": "python"
    }
  },
  "cells": [
    {
      "cell_type": "markdown",
      "metadata": {
        "id": "view-in-github",
        "colab_type": "text"
      },
      "source": [
        "<a href=\"https://colab.research.google.com/github/Caleb040402/Caleb-Londo-o-Electiva-1/blob/main/Introducci%C3%B3n_electiva1.ipynb\" target=\"_parent\"><img src=\"https://colab.research.google.com/assets/colab-badge.svg\" alt=\"Open In Colab\"/></a>"
      ]
    },
    {
      "cell_type": "code",
      "execution_count": null,
      "metadata": {
        "id": "Z7PQ24Oc9N_y"
      },
      "outputs": [],
      "source": [
        "#Primer paso\n",
        "Nombre= \"Caleb Londoño\""
      ]
    },
    {
      "cell_type": "code",
      "source": [],
      "metadata": {
        "id": "8fGgX9A89iX0"
      },
      "execution_count": null,
      "outputs": []
    }
  ]
}