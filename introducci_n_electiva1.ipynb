{
  "nbformat": 4,
  "nbformat_minor": 0,
  "metadata": {
    "colab": {
      "provenance": [],
      "include_colab_link": true
    },
    "kernelspec": {
      "name": "python3",
      "display_name": "Python 3"
    },
    "language_info": {
      "name": "python"
    }
  },
  "cells": [
    {
      "cell_type": "markdown",
      "metadata": {
        "id": "view-in-github",
        "colab_type": "text"
      },
      "source": [
        "<a href=\"https://colab.research.google.com/github/Caleb040402/Caleb-Londo-o-Electiva-1/blob/main/introducci_n_electiva1.ipynb\" target=\"_parent\"><img src=\"https://colab.research.google.com/assets/colab-badge.svg\" alt=\"Open In Colab\"/></a>"
      ]
    },
    {
      "cell_type": "code",
      "source": [
        "mi_diccionario={\"12345\":\"caleb_londoño\", \"6789\": \"carlos_romero\",\n",
        "\"1357\": \"daniela_giraldo\"}\n",
        "otro_diccionario= {1 : [1,2,3,4,5], 2:[5,6,7,8,9], 3:{1:2,2:3} }\n",
        "diccionario_complejo={1 :[1,2,3,4,5,[5,6,7,8,9,[6,7,8]]], 2:[10,11,12], 3:{1:2,2:3,6:[9,10, \"extraer este valor\"]} }\n",
        "#extraer este valor\n",
        "extracted_value = diccionario_complejo[3][6][2]\n",
        "print(extracted_value)"
      ],
      "metadata": {
        "id": "IzAZ82hdH3LO",
        "colab": {
          "base_uri": "https://localhost:8080/"
        },
        "outputId": "86d5dccf-fe3f-451f-e087-fbb6fe3f9079"
      },
      "execution_count": 26,
      "outputs": [
        {
          "output_type": "stream",
          "name": "stdout",
          "text": [
            "extraer este valor\n"
          ]
        }
      ]
    },
    {
      "cell_type": "code",
      "execution_count": null,
      "metadata": {
        "id": "Z7PQ24Oc9N_y"
      },
      "outputs": [],
      "source": [
        "#Primer paso\n",
        "Nombre= \"Caleb Londoño\""
      ]
    },
    {
      "cell_type": "code",
      "source": [
        "#probar cambios\n",
        "2+2\n"
      ],
      "metadata": {
        "id": "8fGgX9A89iX0",
        "colab": {
          "base_uri": "https://localhost:8080/"
        },
        "outputId": "558a7b53-847f-4da7-8b38-b26b8646b980"
      },
      "execution_count": null,
      "outputs": [
        {
          "output_type": "execute_result",
          "data": {
            "text/plain": [
              "4"
            ]
          },
          "metadata": {},
          "execution_count": 14
        }
      ]
    }
  ]
}