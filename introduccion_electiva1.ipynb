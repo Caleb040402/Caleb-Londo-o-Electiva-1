{
  "nbformat": 4,
  "nbformat_minor": 0,
  "metadata": {
    "colab": {
      "provenance": [],
      "include_colab_link": true
    },
    "kernelspec": {
      "name": "python3",
      "display_name": "Python 3"
    },
    "language_info": {
      "name": "python"
    }
  },
  "cells": [
    {
      "cell_type": "markdown",
      "metadata": {
        "id": "view-in-github",
        "colab_type": "text"
      },
      "source": [
        "<a href=\"https://colab.research.google.com/github/Caleb040402/Caleb-Londo-o-Electiva-1/blob/main/introduccion_electiva1.ipynb\" target=\"_parent\"><img src=\"https://colab.research.google.com/assets/colab-badge.svg\" alt=\"Open In Colab\"/></a>"
      ]
    },
    {
      "cell_type": "code",
      "source": [
        "mi_diccionario={\"12345\":\"caleb_londoño\", \"6789\": \"carlos_romero\",\n",
        "\"1357\": \"daniela_giraldo\"}\n",
        "otro_diccionario= {1 : [1,2,3,4,5], 2:[5,6,7,8,9], 3:{1:2,2:3} }\n",
        "diccionario_complejo={1 :[1,2,3,4,5,[5,6,7,8,9,[6,7,8]]], 2:[10,11,12], 3:{1:2,2:3,6:[9,10, \"extraer este valor\"]} }\n",
        "#extraer este valor\n",
        "extracted_value = diccionario_complejo[3][6][2]\n",
        "print(extracted_value)"
      ],
      "metadata": {
        "id": "IzAZ82hdH3LO",
        "colab": {
          "base_uri": "https://localhost:8080/"
        },
        "outputId": "86d5dccf-fe3f-451f-e087-fbb6fe3f9079"
      },
      "execution_count": null,
      "outputs": [
        {
          "output_type": "stream",
          "name": "stdout",
          "text": [
            "extraer este valor\n"
          ]
        }
      ]
    },
    {
      "cell_type": "code",
      "source": [
        "estudiantes= {carlos_romero"
      ],
      "metadata": {
        "id": "eBLxI8xKLpxY"
      },
      "execution_count": null,
      "outputs": []
    },
    {
      "cell_type": "code",
      "execution_count": null,
      "metadata": {
        "id": "Z7PQ24Oc9N_y"
      },
      "outputs": [],
      "source": [
        "#Primer paso\n",
        "Nombre= {\"Caleb Londoño\": {\"nota\""
      ]
    },
    {
      "cell_type": "code",
      "source": [
        "#probar cambios\n",
        "2+2\n"
      ],
      "metadata": {
        "id": "8fGgX9A89iX0",
        "colab": {
          "base_uri": "https://localhost:8080/"
        },
        "outputId": "558a7b53-847f-4da7-8b38-b26b8646b980"
      },
      "execution_count": null,
      "outputs": [
        {
          "output_type": "execute_result",
          "data": {
            "text/plain": [
              "4"
            ]
          },
          "metadata": {},
          "execution_count": 14
        }
      ]
    },
    {
      "cell_type": "code",
      "metadata": {
        "colab": {
          "base_uri": "https://localhost:8080/"
        },
        "id": "f730d28b",
        "outputId": "5ca35046-116f-45f3-dfb3-4724dfecdf9e"
      },
      "source": [
        "# 1. Crear un diccionario con nombres y notas de 5 estudiantes (en escala de 0.0 a 5.0)\n",
        "estudiantes = {\n",
        "    \"Ana\": 4.2,\n",
        "    \"Juan\": 1.5,\n",
        "    \"Maria\": 3.5,\n",
        "    \"Pedro\": 2.5,\n",
        "    \"Sofia\": 4.8\n",
        "}\n",
        "\n",
        "# 2. Implementar el sistema de calificación con condicionales (escala de 0.0 a 5.0)\n",
        "\n",
        "def verificar_estado_estudiante(nota):\n",
        "    if nota >= 3.0:\n",
        "        return \"Ganó la materia.\"\n",
        "    elif nota >= 2.0:\n",
        "        return \"Perdió la materia, pero tiene derecho a habilitar.\"\n",
        "    else:\n",
        "        return \"Perdió la materia y no tiene derecho a habilitar.\"\n",
        "\n",
        "# Iterar sobre el diccionario y mostrar el estado de cada estudiante\n",
        "for nombre, nota in estudiantes.items():\n",
        "    estado = verificar_estado_estudiante(nota)\n",
        "    print(f\"{nombre}: Nota {nota} - {estado}\")"
      ],
      "execution_count": null,
      "outputs": [
        {
          "output_type": "stream",
          "name": "stdout",
          "text": [
            "Ana: Nota 4.2 - Ganó la materia.\n",
            "Juan: Nota 1.5 - Perdió la materia y no tiene derecho a habilitar.\n",
            "Maria: Nota 3.5 - Ganó la materia.\n",
            "Pedro: Nota 2.5 - Perdió la materia, pero tiene derecho a habilitar.\n",
            "Sofia: Nota 4.8 - Ganó la materia.\n"
          ]
        }
      ]
    }
  ]
}